{
  "nbformat": 4,
  "nbformat_minor": 0,
  "metadata": {
    "colab": {
      "provenance": []
    },
    "kernelspec": {
      "name": "python3",
      "display_name": "Python 3"
    },
    "language_info": {
      "name": "python"
    }
  },
  "cells": [
    {
      "cell_type": "code",
      "execution_count": 21,
      "metadata": {
        "id": "9W1PZUDHO3PY"
      },
      "outputs": [],
      "source": [
        "import pandas as pd\n",
        "import numpy as np\n",
        "import random\n",
        "from datetime import datetime, timedelta"
      ]
    },
    {
      "cell_type": "code",
      "source": [
        "np.random.seed(24)\n",
        "random.seed(24)"
      ],
      "metadata": {
        "id": "QjGosguJPI-E"
      },
      "execution_count": 22,
      "outputs": []
    },
    {
      "cell_type": "code",
      "source": [
        "n = 12000\n",
        "n_duplicados = 40\n",
        "n_faltantes_edad = 65\n",
        "n_errores_altura = 25\n",
        "n_faltantes_peso = 70\n",
        "n_peso_en_libras = 15"
      ],
      "metadata": {
        "id": "MZf9WbG8PNgO"
      },
      "execution_count": 34,
      "outputs": []
    },
    {
      "cell_type": "code",
      "source": [
        "ids = range(1, n + 1)"
      ],
      "metadata": {
        "id": "p4z7d3kMPRMl"
      },
      "execution_count": 24,
      "outputs": []
    },
    {
      "cell_type": "code",
      "source": [
        "\n",
        "edades = np.random.randint(18, 85, size=n).astype(float)\n",
        "\n",
        "missing_edad_idx = np.random.choice(n, size=n_faltantes_edad, replace=False)\n",
        "edades[missing_edad_idx] = np.nan\n",
        "\n",
        "outlier_idx = np.random.choice(n, size=5, replace=False)\n",
        "edades[outlier_idx] = [2, 120, 1, 155, 99]"
      ],
      "metadata": {
        "id": "c9HLTFoYPveu"
      },
      "execution_count": 25,
      "outputs": []
    },
    {
      "cell_type": "code",
      "source": [
        "generos_sucios = [\"M\", \"m\", \"Masculino\", \"Hombre\", \"F\", \"f\", \"Mujer\", \"\", \"Femenino\", np.nan]\n",
        "genero = [random.choice(generos_sucios) for _ in range(n)]"
      ],
      "metadata": {
        "id": "UFcfZdk7PVMK"
      },
      "execution_count": 35,
      "outputs": []
    },
    {
      "cell_type": "code",
      "source": [
        "altura = np.random.normal(170, 10, n)\n",
        "error_idx_altura = np.random.choice(n, size=n_errores_altura, replace=False)\n",
        "for i in error_idx_altura:\n",
        "    tipo_error = random.choice(['negativo', 'mm', 'cero'])\n",
        "    if tipo_error == 'negativo':\n",
        "        altura[i] = -abs(altura[i])\n",
        "    elif tipo_error == 'mm':\n",
        "        altura[i] = altura[i] * 10\n",
        "    else:\n",
        "        altura[i] = 0"
      ],
      "metadata": {
        "id": "8aQe0Q6DPXQs"
      },
      "execution_count": 27,
      "outputs": []
    },
    {
      "cell_type": "code",
      "source": [
        "peso = np.random.normal(70, 15, n)\n",
        "\n",
        "peso[np.random.choice(n, size=n_faltantes_peso, replace=False)] = np.nan\n",
        "\n",
        "libras_idx = np.random.choice(np.where(~np.isnan(peso))[0], size=n_peso_en_libras, replace=False)\n",
        "peso[libras_idx] = peso[libras_idx] * 2.20462"
      ],
      "metadata": {
        "id": "so6b76oxP2jZ"
      },
      "execution_count": 28,
      "outputs": []
    },
    {
      "cell_type": "code",
      "source": [
        "fuma_opciones = [\"Sí\", \"No\", \"si\", \"no\", \"Ocasional\", \"S\", np.nan]\n",
        "fuma = np.random.choice(fuma_opciones, size=n, p=[0.2, 0.5, 0.05, 0.05, 0.1, 0.05, 0.05])"
      ],
      "metadata": {
        "id": "RNtQK2IjP5h_"
      },
      "execution_count": 36,
      "outputs": []
    },
    {
      "cell_type": "code",
      "source": [
        "fechas = []\n",
        "for _ in range(n):\n",
        "    dias = np.random.randint(0, 365 * 2)\n",
        "    fecha = datetime(2022, 1, 1) + timedelta(days=int(dias))\n",
        "    formato = random.choice([1, 2, 3])\n",
        "    if formato == 1:\n",
        "        fechas.append(fecha.strftime(\"%m/%d/%Y\"))\n",
        "    elif formato == 2:\n",
        "        fechas.append(fecha.strftime(\"%Y-%m-%d\"))\n",
        "    else:\n",
        "        fechas.append(fecha.strftime(\"%d-%b-%y\"))"
      ],
      "metadata": {
        "id": "numTBlU7P8RB"
      },
      "execution_count": 30,
      "outputs": []
    },
    {
      "cell_type": "code",
      "source": [
        "df = pd.DataFrame({\n",
        "    \"id\": ids,\n",
        "    \"edad\": edades,\n",
        "    \"género\": genero,\n",
        "    \"altura_cm\": altura,\n",
        "    \"peso_kg\": peso,\n",
        "    \"fuma\": fuma,\n",
        "    \"fecha_encuesta\": fechas\n",
        "})"
      ],
      "metadata": {
        "id": "4ZfbniFjQCMF"
      },
      "execution_count": 37,
      "outputs": []
    },
    {
      "cell_type": "code",
      "source": [],
      "metadata": {
        "id": "b1tw2JXVQpoH"
      },
      "execution_count": null,
      "outputs": []
    },
    {
      "cell_type": "code",
      "source": [
        "df = pd.concat([df, df.sample(n_duplicados)], ignore_index=True)"
      ],
      "metadata": {
        "id": "iuQZe5CQQEiV"
      },
      "execution_count": 38,
      "outputs": []
    },
    {
      "cell_type": "code",
      "source": [
        "df.to_csv(\"registros_medicos_irregulares.csv\", index=False, encoding=\"utf-8\")\n",
        "\n",
        "print(\"✅ Archivo 'registros_medicos_irregulares.csv' creado con éxito.\")"
      ],
      "metadata": {
        "colab": {
          "base_uri": "https://localhost:8080/"
        },
        "id": "D8ADO_7VQGs5",
        "outputId": "363d4062-7824-41dd-db17-821e80224e96"
      },
      "execution_count": 39,
      "outputs": [
        {
          "output_type": "stream",
          "name": "stdout",
          "text": [
            "✅ Archivo 'registros_medicos_irregulares.csv' creado con éxito.\n"
          ]
        }
      ]
    }
  ]
}