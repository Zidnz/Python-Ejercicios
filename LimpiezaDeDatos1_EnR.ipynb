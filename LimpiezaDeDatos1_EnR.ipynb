{
  "nbformat": 4,
  "nbformat_minor": 0,
  "metadata": {
    "colab": {
      "provenance": []
    },
    "kernelspec": {
      "name": "ir",
      "display_name": "R"
    },
    "language_info": {
      "name": "R"
    }
  },
  "cells": [
    {
      "cell_type": "code",
      "execution_count": null,
      "metadata": {
        "colab": {
          "base_uri": "https://localhost:8080/",
          "height": 515
        },
        "id": "auqqIveJXmny",
        "outputId": "8df31f41-5df3-4d0f-d8ea-095d606ddc85"
      },
      "outputs": [
        {
          "output_type": "display_data",
          "data": {
            "text/html": [
              "<table class=\"dataframe\">\n",
              "<caption>A data.frame: 6 × 27</caption>\n",
              "<thead>\n",
              "\t<tr><th></th><th scope=col>folio</th><th scope=col>fecha_alta</th><th scope=col>aÃ.o_alta</th><th scope=col>mes_alta</th><th scope=col>hora_alta</th><th scope=col>sexo</th><th scope=col>edad</th><th scope=col>estado_civil</th><th scope=col>ocupacion</th><th scope=col>escolaridad</th><th scope=col>⋯</th><th scope=col>cp_hechos</th><th scope=col>origen</th><th scope=col>servicio</th><th scope=col>tematica_1</th><th scope=col>tematica_2</th><th scope=col>tematica_3</th><th scope=col>tematica_4</th><th scope=col>tematica_5</th><th scope=col>tematica_6</th><th scope=col>tematica_7</th></tr>\n",
              "\t<tr><th></th><th scope=col>&lt;int&gt;</th><th scope=col>&lt;chr&gt;</th><th scope=col>&lt;int&gt;</th><th scope=col>&lt;chr&gt;</th><th scope=col>&lt;chr&gt;</th><th scope=col>&lt;chr&gt;</th><th scope=col>&lt;int&gt;</th><th scope=col>&lt;chr&gt;</th><th scope=col>&lt;chr&gt;</th><th scope=col>&lt;chr&gt;</th><th scope=col>⋯</th><th scope=col>&lt;int&gt;</th><th scope=col>&lt;chr&gt;</th><th scope=col>&lt;chr&gt;</th><th scope=col>&lt;chr&gt;</th><th scope=col>&lt;chr&gt;</th><th scope=col>&lt;chr&gt;</th><th scope=col>&lt;chr&gt;</th><th scope=col>&lt;chr&gt;</th><th scope=col>&lt;chr&gt;</th><th scope=col>&lt;chr&gt;</th></tr>\n",
              "</thead>\n",
              "<tbody>\n",
              "\t<tr><th scope=row>1</th><td>1032062</td><td>2022-01-01</td><td>2022</td><td>Enero</td><td>00:01:43</td><td>FEMENINO </td><td>52</td><td>CASADO (A) </td><td><span style=white-space:pre-wrap>EMPLEADO (A)   </span></td><td>BACHILLERATO</td><td>⋯</td><td>NA</td><td>NÚMERO 911</td><td>JURÃ&lt;8d&gt;DICO</td><td><span style=white-space:pre-wrap>PENAL                 </span></td><td>DELITOS CONTRA LA PAZ, LA SEGURIDAD DE LAS PERSONAS Y LA INVIOLABILIDAD DEL DOMICILIO</td><td><span style=white-space:pre-wrap>AMENAZAS                     </span></td><td><span style=white-space:pre-wrap>NA                 </span></td><td>NA</td><td>NA</td><td>NA</td></tr>\n",
              "\t<tr><th scope=row>2</th><td>1032063</td><td>2022-01-01</td><td>2022</td><td>Enero</td><td>00:07:02</td><td>FEMENINO </td><td>67</td><td>SOLTERO (A)</td><td>HOGAR          </td><td>BACHILLERATO</td><td>⋯</td><td>NA</td><td>NA        </td><td>PSICOLÃ“GICO</td><td>CONFLICTOS EMOCIONALES</td><td>ESTADOS EMOCIONALES                                                                  </td><td>ESTADOS DE ANSIEDAD          </td><td>ENFRENTAR SITUACION</td><td>NA</td><td>NA</td><td>NA</td></tr>\n",
              "\t<tr><th scope=row>3</th><td>1032064</td><td>2022-01-01</td><td>2022</td><td>Enero</td><td>00:13:53</td><td>MASCULINO</td><td>56</td><td>CASADO (A) </td><td><span style=white-space:pre-wrap>EMPLEADO (A)   </span></td><td>BACHILLERATO</td><td>⋯</td><td>NA</td><td><span style=white-space:pre-wrap>NA        </span></td><td>JURÃ&lt;8d&gt;DICO</td><td><span style=white-space:pre-wrap>FAMILIAR              </span></td><td><span style=white-space:pre-wrap>PATRIA POTESTAD                                                                      </span></td><td>GUARDIA Y CUSTODIA COMPARTIDA</td><td><span style=white-space:pre-wrap>MADRE              </span></td><td>NA</td><td>NA</td><td>NA</td></tr>\n",
              "\t<tr><th scope=row>4</th><td>1032065</td><td>2022-01-01</td><td>2022</td><td>Enero</td><td>00:14:57</td><td>FEMENINO </td><td>48</td><td>CASADO (A) </td><td>HOGAR          </td><td>SECUNDARIA  </td><td>⋯</td><td>NA</td><td>NA        </td><td>PSICOLÃ“GICO</td><td>CONFLICTOS EMOCIONALES</td><td>ESTADOS EMOCIONALES                                                                  </td><td>ESTADOS DE ANSIEDAD          </td><td>NA                 </td><td>NA</td><td>NA</td><td>NA</td></tr>\n",
              "\t<tr><th scope=row>5</th><td>1032066</td><td>2022-01-01</td><td>2022</td><td>Enero</td><td>00:23:16</td><td>MASCULINO</td><td>42</td><td>SOLTERO (A)</td><td>DESEMPLEADO (A)</td><td>LICENCIATURA</td><td>⋯</td><td>NA</td><td>NA        </td><td>PSICOLÃ“GICO</td><td>CONFLICTOS EMOCIONALES</td><td>ESTADOS EMOCIONALES                                                                  </td><td>ESTADOS DE ANSIEDAD          </td><td>ENFRENTAR SITUACION</td><td>NA</td><td>NA</td><td>NA</td></tr>\n",
              "\t<tr><th scope=row>6</th><td>1032067</td><td>2022-01-01</td><td>2022</td><td>Enero</td><td>00:23:38</td><td>MASCULINO</td><td>46</td><td>SOLTERO (A)</td><td><span style=white-space:pre-wrap>EMPLEADO (A)   </span></td><td>BACHILLERATO</td><td>⋯</td><td>NA</td><td><span style=white-space:pre-wrap>NA        </span></td><td>JURÃ&lt;8d&gt;DICO</td><td><span style=white-space:pre-wrap>ADMINISTRATIVA        </span></td><td><span style=white-space:pre-wrap>NA                                                                                   </span></td><td><span style=white-space:pre-wrap>NA                           </span></td><td><span style=white-space:pre-wrap>NA                 </span></td><td>NA</td><td>NA</td><td>NA</td></tr>\n",
              "</tbody>\n",
              "</table>\n"
            ],
            "text/markdown": "\nA data.frame: 6 × 27\n\n| <!--/--> | folio &lt;int&gt; | fecha_alta &lt;chr&gt; | aÃ.o_alta &lt;int&gt; | mes_alta &lt;chr&gt; | hora_alta &lt;chr&gt; | sexo &lt;chr&gt; | edad &lt;int&gt; | estado_civil &lt;chr&gt; | ocupacion &lt;chr&gt; | escolaridad &lt;chr&gt; | ⋯ ⋯ | cp_hechos &lt;int&gt; | origen &lt;chr&gt; | servicio &lt;chr&gt; | tematica_1 &lt;chr&gt; | tematica_2 &lt;chr&gt; | tematica_3 &lt;chr&gt; | tematica_4 &lt;chr&gt; | tematica_5 &lt;chr&gt; | tematica_6 &lt;chr&gt; | tematica_7 &lt;chr&gt; |\n|---|---|---|---|---|---|---|---|---|---|---|---|---|---|---|---|---|---|---|---|---|---|\n| 1 | 1032062 | 2022-01-01 | 2022 | Enero | 00:01:43 | FEMENINO  | 52 | CASADO (A)  | EMPLEADO (A)    | BACHILLERATO | ⋯ | NA | NÚMERO 911 | JURÃ&lt;8d&gt;DICO | PENAL                  | DELITOS CONTRA LA PAZ, LA SEGURIDAD DE LAS PERSONAS Y LA INVIOLABILIDAD DEL DOMICILIO | AMENAZAS                      | NA                  | NA | NA | NA |\n| 2 | 1032063 | 2022-01-01 | 2022 | Enero | 00:07:02 | FEMENINO  | 67 | SOLTERO (A) | HOGAR           | BACHILLERATO | ⋯ | NA | NA         | PSICOLÃ“GICO | CONFLICTOS EMOCIONALES | ESTADOS EMOCIONALES                                                                   | ESTADOS DE ANSIEDAD           | ENFRENTAR SITUACION | NA | NA | NA |\n| 3 | 1032064 | 2022-01-01 | 2022 | Enero | 00:13:53 | MASCULINO | 56 | CASADO (A)  | EMPLEADO (A)    | BACHILLERATO | ⋯ | NA | NA         | JURÃ&lt;8d&gt;DICO | FAMILIAR               | PATRIA POTESTAD                                                                       | GUARDIA Y CUSTODIA COMPARTIDA | MADRE               | NA | NA | NA |\n| 4 | 1032065 | 2022-01-01 | 2022 | Enero | 00:14:57 | FEMENINO  | 48 | CASADO (A)  | HOGAR           | SECUNDARIA   | ⋯ | NA | NA         | PSICOLÃ“GICO | CONFLICTOS EMOCIONALES | ESTADOS EMOCIONALES                                                                   | ESTADOS DE ANSIEDAD           | NA                  | NA | NA | NA |\n| 5 | 1032066 | 2022-01-01 | 2022 | Enero | 00:23:16 | MASCULINO | 42 | SOLTERO (A) | DESEMPLEADO (A) | LICENCIATURA | ⋯ | NA | NA         | PSICOLÃ“GICO | CONFLICTOS EMOCIONALES | ESTADOS EMOCIONALES                                                                   | ESTADOS DE ANSIEDAD           | ENFRENTAR SITUACION | NA | NA | NA |\n| 6 | 1032067 | 2022-01-01 | 2022 | Enero | 00:23:38 | MASCULINO | 46 | SOLTERO (A) | EMPLEADO (A)    | BACHILLERATO | ⋯ | NA | NA         | JURÃ&lt;8d&gt;DICO | ADMINISTRATIVA         | NA                                                                                    | NA                            | NA                  | NA | NA | NA |\n\n",
            "text/latex": "A data.frame: 6 × 27\n\\begin{tabular}{r|lllllllllllllllllllll}\n  & folio & fecha\\_alta & aÃ.o\\_alta & mes\\_alta & hora\\_alta & sexo & edad & estado\\_civil & ocupacion & escolaridad & ⋯ & cp\\_hechos & origen & servicio & tematica\\_1 & tematica\\_2 & tematica\\_3 & tematica\\_4 & tematica\\_5 & tematica\\_6 & tematica\\_7\\\\\n  & <int> & <chr> & <int> & <chr> & <chr> & <chr> & <int> & <chr> & <chr> & <chr> & ⋯ & <int> & <chr> & <chr> & <chr> & <chr> & <chr> & <chr> & <chr> & <chr> & <chr>\\\\\n\\hline\n\t1 & 1032062 & 2022-01-01 & 2022 & Enero & 00:01:43 & FEMENINO  & 52 & CASADO (A)  & EMPLEADO (A)    & BACHILLERATO & ⋯ & NA & NÚMERO 911 & JURÃ<8d>DICO & PENAL                  & DELITOS CONTRA LA PAZ, LA SEGURIDAD DE LAS PERSONAS Y LA INVIOLABILIDAD DEL DOMICILIO & AMENAZAS                      & NA                  & NA & NA & NA\\\\\n\t2 & 1032063 & 2022-01-01 & 2022 & Enero & 00:07:02 & FEMENINO  & 67 & SOLTERO (A) & HOGAR           & BACHILLERATO & ⋯ & NA & NA         & PSICOLÃ“GICO & CONFLICTOS EMOCIONALES & ESTADOS EMOCIONALES                                                                   & ESTADOS DE ANSIEDAD           & ENFRENTAR SITUACION & NA & NA & NA\\\\\n\t3 & 1032064 & 2022-01-01 & 2022 & Enero & 00:13:53 & MASCULINO & 56 & CASADO (A)  & EMPLEADO (A)    & BACHILLERATO & ⋯ & NA & NA         & JURÃ<8d>DICO & FAMILIAR               & PATRIA POTESTAD                                                                       & GUARDIA Y CUSTODIA COMPARTIDA & MADRE               & NA & NA & NA\\\\\n\t4 & 1032065 & 2022-01-01 & 2022 & Enero & 00:14:57 & FEMENINO  & 48 & CASADO (A)  & HOGAR           & SECUNDARIA   & ⋯ & NA & NA         & PSICOLÃ“GICO & CONFLICTOS EMOCIONALES & ESTADOS EMOCIONALES                                                                   & ESTADOS DE ANSIEDAD           & NA                  & NA & NA & NA\\\\\n\t5 & 1032066 & 2022-01-01 & 2022 & Enero & 00:23:16 & MASCULINO & 42 & SOLTERO (A) & DESEMPLEADO (A) & LICENCIATURA & ⋯ & NA & NA         & PSICOLÃ“GICO & CONFLICTOS EMOCIONALES & ESTADOS EMOCIONALES                                                                   & ESTADOS DE ANSIEDAD           & ENFRENTAR SITUACION & NA & NA & NA\\\\\n\t6 & 1032067 & 2022-01-01 & 2022 & Enero & 00:23:38 & MASCULINO & 46 & SOLTERO (A) & EMPLEADO (A)    & BACHILLERATO & ⋯ & NA & NA         & JURÃ<8d>DICO & ADMINISTRATIVA         & NA                                                                                    & NA                            & NA                  & NA & NA & NA\\\\\n\\end{tabular}\n",
            "text/plain": [
              "  folio   fecha_alta aÃ.o_alta mes_alta hora_alta sexo      edad estado_civil\n",
              "1 1032062 2022-01-01 2022      Enero    00:01:43  FEMENINO  52   CASADO (A)  \n",
              "2 1032063 2022-01-01 2022      Enero    00:07:02  FEMENINO  67   SOLTERO (A) \n",
              "3 1032064 2022-01-01 2022      Enero    00:13:53  MASCULINO 56   CASADO (A)  \n",
              "4 1032065 2022-01-01 2022      Enero    00:14:57  FEMENINO  48   CASADO (A)  \n",
              "5 1032066 2022-01-01 2022      Enero    00:23:16  MASCULINO 42   SOLTERO (A) \n",
              "6 1032067 2022-01-01 2022      Enero    00:23:38  MASCULINO 46   SOLTERO (A) \n",
              "  ocupacion       escolaridad  ⋯ cp_hechos origen     servicio    \n",
              "1 EMPLEADO (A)    BACHILLERATO ⋯ NA        NÚMERO 911 JURÃ<8d>DICO\n",
              "2 HOGAR           BACHILLERATO ⋯ NA        NA         PSICOLÃ“GICO\n",
              "3 EMPLEADO (A)    BACHILLERATO ⋯ NA        NA         JURÃ<8d>DICO\n",
              "4 HOGAR           SECUNDARIA   ⋯ NA        NA         PSICOLÃ“GICO\n",
              "5 DESEMPLEADO (A) LICENCIATURA ⋯ NA        NA         PSICOLÃ“GICO\n",
              "6 EMPLEADO (A)    BACHILLERATO ⋯ NA        NA         JURÃ<8d>DICO\n",
              "  tematica_1            \n",
              "1 PENAL                 \n",
              "2 CONFLICTOS EMOCIONALES\n",
              "3 FAMILIAR              \n",
              "4 CONFLICTOS EMOCIONALES\n",
              "5 CONFLICTOS EMOCIONALES\n",
              "6 ADMINISTRATIVA        \n",
              "  tematica_2                                                                           \n",
              "1 DELITOS CONTRA LA PAZ, LA SEGURIDAD DE LAS PERSONAS Y LA INVIOLABILIDAD DEL DOMICILIO\n",
              "2 ESTADOS EMOCIONALES                                                                  \n",
              "3 PATRIA POTESTAD                                                                      \n",
              "4 ESTADOS EMOCIONALES                                                                  \n",
              "5 ESTADOS EMOCIONALES                                                                  \n",
              "6 NA                                                                                   \n",
              "  tematica_3                    tematica_4          tematica_5 tematica_6\n",
              "1 AMENAZAS                      NA                  NA         NA        \n",
              "2 ESTADOS DE ANSIEDAD           ENFRENTAR SITUACION NA         NA        \n",
              "3 GUARDIA Y CUSTODIA COMPARTIDA MADRE               NA         NA        \n",
              "4 ESTADOS DE ANSIEDAD           NA                  NA         NA        \n",
              "5 ESTADOS DE ANSIEDAD           ENFRENTAR SITUACION NA         NA        \n",
              "6 NA                            NA                  NA         NA        \n",
              "  tematica_7\n",
              "1 NA        \n",
              "2 NA        \n",
              "3 NA        \n",
              "4 NA        \n",
              "5 NA        \n",
              "6 NA        "
            ]
          },
          "metadata": {}
        }
      ],
      "source": [
        "# Descargar el CSV de forma dinámica\n",
        "download.file(\"https://archivo.datos.cdmx.gob.mx/bases_integrales/servicios_integrales_2022-2023.csv\",\n",
        "              destfile = \"servicios_integrales_2022-2023.csv\", mode = \"wb\")\n",
        "\n",
        "# Cargar el dataset\n",
        "df <- read.csv(\"servicios_integrales_2022-2023.csv\", encoding = \"latin1\")\n",
        "\n",
        "# Mostrar las primeras filas del dataset\n",
        "head(df)"
      ]
    },
    {
      "cell_type": "code",
      "source": [
        "summary(df)"
      ],
      "metadata": {
        "colab": {
          "base_uri": "https://localhost:8080/",
          "height": 267
        },
        "id": "ejRlJMj5YFfv",
        "outputId": "557728bd-322d-4fea-d164-f6fe6fe38d62"
      },
      "execution_count": null,
      "outputs": [
        {
          "output_type": "display_data",
          "data": {
            "text/plain": [
              "       id          Colonia            Alcaldía            Latitud     \n",
              " Min.   :    1   Length:13714       Length:13714       Min.   :19.12  \n",
              " 1st Qu.: 3830   Class :character   Class :character   1st Qu.:19.33  \n",
              " Median : 7452   Mode  :character   Mode  :character   Median :19.39  \n",
              " Mean   : 8333                                         Mean   :19.39  \n",
              " 3rd Qu.:13057                                         3rd Qu.:19.44  \n",
              " Max.   :16999                                         Max.   :19.58  \n",
              "    Longitud      Puntos_de_acceso   Programa        \n",
              " Min.   :-99.35   Min.   :1        Length:13714      \n",
              " 1st Qu.:-99.17   1st Qu.:1        Class :character  \n",
              " Median :-99.13   Median :1        Mode  :character  \n",
              " Mean   :-99.13   Mean   :1                          \n",
              " 3rd Qu.:-99.09   3rd Qu.:1                          \n",
              " Max.   :-98.95   Max.   :1                          "
            ]
          },
          "metadata": {}
        }
      ]
    },
    {
      "cell_type": "code",
      "source": [
        "str(df)"
      ],
      "metadata": {
        "colab": {
          "base_uri": "https://localhost:8080/"
        },
        "id": "cn9q6Ug5YYxn",
        "outputId": "e4b468a7-48c0-4b55-cbbb-d049408b34da"
      },
      "execution_count": null,
      "outputs": [
        {
          "output_type": "stream",
          "name": "stdout",
          "text": [
            "'data.frame':\t13714 obs. of  7 variables:\n",
            " $ id              : int  1 2 3 4 5 6 7 9 10 11 ...\n",
            " $ Colonia         : chr  \"CENTRO\" \"CENTRO\" \"CENTRO\" \"CENTRO\" ...\n",
            " $ Alcaldía        : chr  \"CUAUHTÉMOC\" \"CUAUHTÉMOC\" \"CUAUHTÉMOC\" \"CUAUHTÉMOC\" ...\n",
            " $ Latitud         : num  19.4 19.4 19.4 19.4 19.4 ...\n",
            " $ Longitud        : num  -99.1 -99.1 -99.1 -99.1 -99.1 ...\n",
            " $ Puntos_de_acceso: int  1 1 1 1 1 1 1 1 1 1 ...\n",
            " $ Programa        : chr  \"Postes_C5\" \"Postes_C5\" \"Postes_C5\" \"Postes_C5\" ...\n"
          ]
        }
      ]
    }
  ]
}