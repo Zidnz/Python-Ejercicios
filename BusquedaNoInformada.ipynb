{
  "nbformat": 4,
  "nbformat_minor": 0,
  "metadata": {
    "colab": {
      "provenance": []
    },
    "kernelspec": {
      "name": "python3",
      "display_name": "Python 3"
    },
    "language_info": {
      "name": "python"
    }
  },
  "cells": [
    {
      "cell_type": "code",
      "execution_count": null,
      "metadata": {
        "colab": {
          "base_uri": "https://localhost:8080/"
        },
        "id": "lpH6gjQJFxsL",
        "outputId": "ff09a62a-c0e7-45b9-b94c-07aa2c0d05d2"
      },
      "outputs": [
        {
          "output_type": "stream",
          "name": "stdout",
          "text": [
            "Desencadenamiento hacia adelante de A a F None\n"
          ]
        }
      ],
      "source": [
        "from collections import deque\n",
        "\n",
        "#graph = {\n",
        "   # 'A': [('B', 1), ('C', 3)],\n",
        "   # 'B': [('D', 1), ('E', 4)],\n",
        "   # 'C': [('F', 2)],\n",
        "  #  'D': [],\n",
        "   # 'E': [('F', 1)],\n",
        "   # 'F': []\n",
        "\n",
        "#}\n",
        "def desencadenamiento_adelante(graph, start, goal):\n",
        "    queue = deque([(start, [start])])\n",
        "    while queue:\n",
        "        node, path = queue.popleft()\n",
        "        if node == goal:\n",
        "            return path\n",
        "            for neighbor, weigth in graph(node):\n",
        "               queue.append((neighbor, path + [neighbor]))\n",
        "\n",
        "print(\"Desencadenamiento hacia adelante de A a F\", desencadenamiento_adelante(graph, 'A', 'F'))"
      ]
    },
    {
      "cell_type": "code",
      "source": [
        "def desencadenamiento_atras(graph, start, goal):\n",
        "    reverse_graph = {key: [] for key in graph}\n",
        "    for node  in graph:\n",
        "        for neighbor in graph(node):\n",
        "            reverse_graph[neighbor].append(node)\n",
        "\n",
        "    queue = deque([(start, [start])])\n",
        "    while queue:\n",
        "        node, path = queue.popleft()\n",
        "        if node == goal:\n",
        "            return path[::]\n",
        "\n",
        "            for neighbor in reverse_graph[node]:\n",
        "              queue.append((neighbor, path + [neighbor]))\n",
        "\n",
        "print(\"Desencadenamiento hacia atrás de A a F\", desencadenamiento_atras(graph, 'A', 'F'))"
      ],
      "metadata": {
        "colab": {
          "base_uri": "https://localhost:8080/",
          "height": 297
        },
        "id": "n9CkerxjMdjz",
        "outputId": "b380bf44-7214-42a1-c7e2-46e786c35190"
      },
      "execution_count": null,
      "outputs": [
        {
          "output_type": "error",
          "ename": "TypeError",
          "evalue": "'dict' object is not callable",
          "traceback": [
            "\u001b[0;31m---------------------------------------------------------------------------\u001b[0m",
            "\u001b[0;31mTypeError\u001b[0m                                 Traceback (most recent call last)",
            "\u001b[0;32m<ipython-input-13-7fa27df7b654>\u001b[0m in \u001b[0;36m<cell line: 0>\u001b[0;34m()\u001b[0m\n\u001b[1;32m     14\u001b[0m               \u001b[0mqueue\u001b[0m\u001b[0;34m.\u001b[0m\u001b[0mappend\u001b[0m\u001b[0;34m(\u001b[0m\u001b[0;34m(\u001b[0m\u001b[0mneighbor\u001b[0m\u001b[0;34m,\u001b[0m \u001b[0mpath\u001b[0m \u001b[0;34m+\u001b[0m \u001b[0;34m[\u001b[0m\u001b[0mneighbor\u001b[0m\u001b[0;34m]\u001b[0m\u001b[0;34m)\u001b[0m\u001b[0;34m)\u001b[0m\u001b[0;34m\u001b[0m\u001b[0;34m\u001b[0m\u001b[0m\n\u001b[1;32m     15\u001b[0m \u001b[0;34m\u001b[0m\u001b[0m\n\u001b[0;32m---> 16\u001b[0;31m \u001b[0mprint\u001b[0m\u001b[0;34m(\u001b[0m\u001b[0;34m\"Desencadenamiento hacia atrás de A a F\"\u001b[0m\u001b[0;34m,\u001b[0m \u001b[0mdesencadenamiento_atras\u001b[0m\u001b[0;34m(\u001b[0m\u001b[0mgraph\u001b[0m\u001b[0;34m,\u001b[0m \u001b[0;34m'A'\u001b[0m\u001b[0;34m,\u001b[0m \u001b[0;34m'F'\u001b[0m\u001b[0;34m)\u001b[0m\u001b[0;34m)\u001b[0m\u001b[0;34m\u001b[0m\u001b[0;34m\u001b[0m\u001b[0m\n\u001b[0m",
            "\u001b[0;32m<ipython-input-13-7fa27df7b654>\u001b[0m in \u001b[0;36mdesencadenamiento_atras\u001b[0;34m(graph, start, goal)\u001b[0m\n\u001b[1;32m      2\u001b[0m     \u001b[0mreverse_graph\u001b[0m \u001b[0;34m=\u001b[0m \u001b[0;34m{\u001b[0m\u001b[0mkey\u001b[0m\u001b[0;34m:\u001b[0m \u001b[0;34m[\u001b[0m\u001b[0;34m]\u001b[0m \u001b[0;32mfor\u001b[0m \u001b[0mkey\u001b[0m \u001b[0;32min\u001b[0m \u001b[0mgraph\u001b[0m\u001b[0;34m}\u001b[0m\u001b[0;34m\u001b[0m\u001b[0;34m\u001b[0m\u001b[0m\n\u001b[1;32m      3\u001b[0m     \u001b[0;32mfor\u001b[0m \u001b[0mnode\u001b[0m  \u001b[0;32min\u001b[0m \u001b[0mgraph\u001b[0m\u001b[0;34m:\u001b[0m\u001b[0;34m\u001b[0m\u001b[0;34m\u001b[0m\u001b[0m\n\u001b[0;32m----> 4\u001b[0;31m         \u001b[0;32mfor\u001b[0m \u001b[0mneighbor\u001b[0m \u001b[0;32min\u001b[0m \u001b[0mgraph\u001b[0m\u001b[0;34m(\u001b[0m\u001b[0mnode\u001b[0m\u001b[0;34m)\u001b[0m\u001b[0;34m:\u001b[0m\u001b[0;34m\u001b[0m\u001b[0;34m\u001b[0m\u001b[0m\n\u001b[0m\u001b[1;32m      5\u001b[0m             \u001b[0mreverse_graph\u001b[0m\u001b[0;34m[\u001b[0m\u001b[0mneighbor\u001b[0m\u001b[0;34m]\u001b[0m\u001b[0;34m.\u001b[0m\u001b[0mappend\u001b[0m\u001b[0;34m(\u001b[0m\u001b[0mnode\u001b[0m\u001b[0;34m)\u001b[0m\u001b[0;34m\u001b[0m\u001b[0;34m\u001b[0m\u001b[0m\n\u001b[1;32m      6\u001b[0m \u001b[0;34m\u001b[0m\u001b[0m\n",
            "\u001b[0;31mTypeError\u001b[0m: 'dict' object is not callable"
          ]
        }
      ]
    },
    {
      "cell_type": "code",
      "source": [
        "import heapq\n",
        "\n",
        "weighted_graph = {\n",
        "    'A': [('B', 1), ('C', 1), ('I', 1)],\n",
        "    'B': [('D', 2)],\n",
        "    'C': [('E', 2), ('F', 2)],\n",
        "    'D': [('H', 1)],\n",
        "    'E': [('K', 3)],\n",
        "    'F': [('L', 2)],\n",
        "    'G': [('L', 3)],\n",
        "    'H': [('K', 2)],\n",
        "    'I': [('J', 2)],\n",
        "    'J': [('G', 4)],\n",
        "    'K': [('M', 1)],\n",
        "    'L': [('N', 2)],\n",
        "    'M': [('O', 3)],\n",
        "    'N': [('O', 1)],\n",
        "    'O': []\n",
        "}\n",
        "def shortest_path(graph, start, goal):\n",
        "    queue = [(0, start, [])]\n",
        "    while queue:\n",
        "        cost, node, path = heapq.heappop(queue)\n",
        "        import heapq\n",
        "\n",
        "def shortest_path(graph, start, goal):\n",
        "    queue = [(0, start, [])]\n",
        "    while queue:\n",
        "        cost, node, path = heapq.heappop(queue)\n",
        "        if node == goal:\n",
        "            return path + [(node, cost)]\n",
        "\n",
        "        for neighbor, weight in graph[node]:\n",
        "            heapq.heappush(queue, (cost + weight, neighbor, path + [(node, cost)]))\n",
        "            return None\n",
        "\n",
        "print(\"Camino más corto de A a F\", shortest_path(weighted_graph, 'A', 'F'))\n"
      ],
      "metadata": {
        "id": "o0tNyLTxT1wA",
        "colab": {
          "base_uri": "https://localhost:8080/"
        },
        "outputId": "b7dd9eae-533e-4964-d164-6e4369814124"
      },
      "execution_count": null,
      "outputs": [
        {
          "output_type": "stream",
          "name": "stdout",
          "text": [
            "Camino más corto de A a F None\n"
          ]
        }
      ]
    },
    {
      "cell_type": "code",
      "source": [
        "import heapq\n",
        "\n",
        "weighted_graph = {\n",
        "    'A': [('B', 1), ('C', 1), ('I', 1)],\n",
        "    'B': [('D', 2)],\n",
        "    'C': [('E', 2), ('F', 2)],\n",
        "    'D': [('H', 1)],\n",
        "    'E': [('K', 3)],\n",
        "    'F': [('L', 2)],\n",
        "    'G': [('L', 3)],\n",
        "    'H': [('K', 2)],\n",
        "    'I': [('J', 2)],\n",
        "    'J': [('G', 4)],\n",
        "    'K': [('M', 1)],\n",
        "    'L': [('N', 2)],\n",
        "    'M': [('O', 3)],\n",
        "    'N': [('O', 1)],\n",
        "    'O': []\n",
        "}\n",
        "\n",
        "def shortest_path(graph, start, goal):\n",
        "    queue = [(0, start, [])]\n",
        "\n",
        "    lista = []\n",
        "    min_cost = []\n",
        "\n",
        "    while queue:\n",
        "        cost, node, path = heapq.heappop(queue)\n",
        "\n",
        "        if node == goal:\n",
        "            lista.append((path +[node], cost))\n",
        "            #return path + [node], cost\n",
        "        #if node == goal:\n",
        "        #    lista.append(path + [node])\n",
        "        #    min_cost.append(cost)\n",
        "        #    continue\n",
        "\n",
        "        for neighbor, weight in graph[node]:\n",
        "            heapq.heappush(queue, (cost + weight, neighbor, path + [node]))\n",
        "\n",
        "\n",
        "    return lista\n",
        "\n",
        "#camino, costo = shortest_path(weighted_graph, 'A', 'F')\n",
        "#print(\"Camino más corto de A a F\", shortest_path(weighted_graph, 'A', 'F'))\n",
        "#print(\"Costo acumulado\", costo)\n",
        "#print(\"Lista de caminos evaluados:\", camino)\n",
        "\n",
        "x = shortest_path(weighted_graph, 'A', 'F')"
      ],
      "metadata": {
        "id": "kyL1BLsR9lYx"
      },
      "execution_count": null,
      "outputs": []
    },
    {
      "cell_type": "code",
      "source": [
        "import heapq\n",
        "\n",
        "weighted_graph = {\n",
        "    'A': [('B', 1), ('C', 1), ('I', 1)],\n",
        "    'B': [('D', 2)],\n",
        "    'C': [('E', 2), ('F', 2)],\n",
        "    'D': [('H', 1)],\n",
        "    'E': [('K', 3)],\n",
        "    'F': [('L', 2)],\n",
        "    'G': [('L', 3)],\n",
        "    'H': [('K', 2)],\n",
        "    'I': [('J', 2)],\n",
        "    'J': [('G', 4)],\n",
        "    'K': [('M', 1)],\n",
        "    'L': [('N', 2)],\n",
        "    'M': [('O', 3)],\n",
        "    'N': [('O', 1)],\n",
        "    'O': []\n",
        "}\n",
        "\n",
        "def shortest_path(graph, start, goal):\n",
        "    queue = [(0, start, [])]\n",
        "\n",
        "    lista = []\n",
        "    min_cost = []\n",
        "\n",
        "    while queue:\n",
        "        cost, node, path = heapq.heappop(queue)\n",
        "\n",
        "        if node == goal:\n",
        "           lista.append((path +[node], cost))\n",
        "\n",
        "        for neighbor, weight in graph[node]:\n",
        "            heapq.heappush(queue, (cost + weight, neighbor, path + [node]))\n",
        "\n",
        "\n",
        "    return lista"
      ],
      "metadata": {
        "id": "3FVi6t_PckmX"
      },
      "execution_count": null,
      "outputs": []
    },
    {
      "cell_type": "code",
      "source": [
        "min_cost = []\n",
        "\n",
        "def filtroCaminos(graph, start, goal):\n",
        "  queue = [(0, start, [])]\n",
        "\n",
        "  while queue:\n",
        "    cost, node, path = queue.pop(0)\n",
        "\n",
        "for i, (path, cost) in enumerate(x):\n",
        "  if cost < 6:\n",
        "    min_cost.append((path, cost))\n",
        "\n",
        "filtroCaminos(weighted_graph, 'A', 'O')\n",
        "print(min_cost)\n",
        "    #print(f\"Camino {i + 1}: {path}\")\n",
        "    #print(f\"Costo acumulado: {cost}\")"
      ],
      "metadata": {
        "colab": {
          "base_uri": "https://localhost:8080/"
        },
        "id": "rnLyQIWsUayG",
        "outputId": "d218d9c9-0534-4b70-cf6f-ad2da1648d0c"
      },
      "execution_count": null,
      "outputs": [
        {
          "output_type": "stream",
          "name": "stdout",
          "text": [
            "[(['A', 'C', 'F'], 3)]\n"
          ]
        }
      ]
    },
    {
      "cell_type": "code",
      "source": [],
      "metadata": {
        "id": "D6ZAJoXFU4Fm"
      },
      "execution_count": null,
      "outputs": []
    }
  ]
}