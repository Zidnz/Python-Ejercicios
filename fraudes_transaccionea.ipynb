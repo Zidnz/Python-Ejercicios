{
  "nbformat": 4,
  "nbformat_minor": 0,
  "metadata": {
    "colab": {
      "provenance": []
    },
    "kernelspec": {
      "name": "python3",
      "display_name": "Python 3"
    },
    "language_info": {
      "name": "python"
    }
  },
  "cells": [
    {
      "cell_type": "code",
      "execution_count": 70,
      "metadata": {
        "id": "jieZbS3rS6qM"
      },
      "outputs": [],
      "source": [
        "import pandas as pd"
      ]
    },
    {
      "cell_type": "code",
      "source": [
        " df = pd.read_csv('/transacciones - Hoja 1.csv')"
      ],
      "metadata": {
        "id": "3Urj8qh5TKm1"
      },
      "execution_count": 71,
      "outputs": []
    },
    {
      "cell_type": "code",
      "source": [
        "df.info()"
      ],
      "metadata": {
        "colab": {
          "base_uri": "https://localhost:8080/"
        },
        "id": "D5CAY5tCWmm8",
        "outputId": "d03ff735-8875-41f0-de10-d9d7aabb8236"
      },
      "execution_count": 72,
      "outputs": [
        {
          "output_type": "stream",
          "name": "stdout",
          "text": [
            "<class 'pandas.core.frame.DataFrame'>\n",
            "RangeIndex: 10000 entries, 0 to 9999\n",
            "Data columns (total 11 columns):\n",
            " #   Column              Non-Null Count  Dtype  \n",
            "---  ------              --------------  -----  \n",
            " 0   id_transaccion      10000 non-null  int64  \n",
            " 1   id_cliente          10000 non-null  int64  \n",
            " 2   nombre_cliente      10000 non-null  object \n",
            " 3   cuenta_origen       10000 non-null  object \n",
            " 4   fecha               10000 non-null  object \n",
            " 5   monto               10000 non-null  float64\n",
            " 6   divisa              10000 non-null  object \n",
            " 7   tipo_transaccion    10000 non-null  object \n",
            " 8   ciudad              10000 non-null  object \n",
            " 9   cuenta_destino      3370 non-null   object \n",
            " 10  categoria_comercio  3352 non-null   object \n",
            "dtypes: float64(1), int64(2), object(8)\n",
            "memory usage: 859.5+ KB\n"
          ]
        }
      ]
    },
    {
      "cell_type": "code",
      "source": [
        "print(df.head())"
      ],
      "metadata": {
        "colab": {
          "base_uri": "https://localhost:8080/"
        },
        "id": "UMRJcNjvWsoi",
        "outputId": "4119b487-7d05-4069-c288-44f3afdde845"
      },
      "execution_count": 73,
      "outputs": [
        {
          "output_type": "stream",
          "name": "stdout",
          "text": [
            "   id_transaccion  id_cliente   nombre_cliente           cuenta_origen  \\\n",
            "0               1        2783    Philip Knight  ES72380307822087479772   \n",
            "1               2        3696   William Harmon  ES74956814146097211403   \n",
            "2               3        6403     Amanda Lewis  ES94278160534459740595   \n",
            "3               4        1156  Victoria Burton  ES18259905541180196560   \n",
            "4               5        2653       Todd Young  ES59522414203568104424   \n",
            "\n",
            "        fecha     monto divisa tipo_transaccion     ciudad  \\\n",
            "0  13/09/2025  31551.32    USD    transferencia  Queretaro   \n",
            "1  16/09/2025  36889.11    MXN           retiro     Juarez   \n",
            "2  04/07/2025  30644.10    MXN           retiro      Paris   \n",
            "3  06/09/2025   7869.29    USD           retiro     Juarez   \n",
            "4  03/04/2025  37940.37    MXN           retiro     Puebla   \n",
            "\n",
            "           cuenta_destino categoria_comercio  \n",
            "0  ES19946920183191759474                NaN  \n",
            "1                     NaN                NaN  \n",
            "2                     NaN                NaN  \n",
            "3                     NaN                NaN  \n",
            "4                     NaN                NaN  \n"
          ]
        }
      ]
    },
    {
      "cell_type": "code",
      "source": [
        " print(df.describe())"
      ],
      "metadata": {
        "colab": {
          "base_uri": "https://localhost:8080/"
        },
        "id": "geGETgqZXTbZ",
        "outputId": "f62bc70e-fb10-49ba-cfce-31ae7a527fb2"
      },
      "execution_count": 74,
      "outputs": [
        {
          "output_type": "stream",
          "name": "stdout",
          "text": [
            "       id_transaccion    id_cliente         monto\n",
            "count     10000.00000  10000.000000  10000.000000\n",
            "mean       5000.50000   5491.002700  24848.036536\n",
            "std        2886.89568   2591.752536  14390.664287\n",
            "min           1.00000   1001.000000     50.830000\n",
            "25%        2500.75000   3265.750000  12266.625000\n",
            "50%        5000.50000   5492.500000  24725.150000\n",
            "75%        7500.25000   7722.250000  37286.777500\n",
            "max       10000.00000   9999.000000  49995.630000\n"
          ]
        }
      ]
    },
    {
      "cell_type": "code",
      "source": [
        "from google.colab import drive\n",
        "drive.mount('/content/drive')"
      ],
      "metadata": {
        "colab": {
          "base_uri": "https://localhost:8080/"
        },
        "id": "kmXGHD1WbQoi",
        "outputId": "7e16e008-4862-4042-cb0d-9c77c623deec"
      },
      "execution_count": 75,
      "outputs": [
        {
          "output_type": "stream",
          "name": "stdout",
          "text": [
            "Drive already mounted at /content/drive; to attempt to forcibly remount, call drive.mount(\"/content/drive\", force_remount=True).\n"
          ]
        }
      ]
    },
    {
      "cell_type": "code",
      "source": [
        "archivo_entrada = '/transacciones - Hoja 1.csv'\n",
        "archivo_salida = '/content/drive/MyDrive/posibles_fraudes.csv'"
      ],
      "metadata": {
        "id": "VU-VGs-2XkOA"
      },
      "execution_count": 76,
      "outputs": []
    },
    {
      "cell_type": "code",
      "source": [
        "condicion1 = df['monto'] > 45000\n",
        "\n",
        "condicion2 = (df['tipo_transaccion'] == 'retiro') & (df['ciudad'] == 'extranjera') & (df['monto'] > 25000)\n",
        "\n",
        "condicion3 = (df['tipo_transaccion'] == 'transaccion') & (df['monto'] > 35000)\n",
        "\n",
        "print(condicion1)\n",
        "print(condicion2)\n",
        "print(condicion3)"
      ],
      "metadata": {
        "colab": {
          "base_uri": "https://localhost:8080/"
        },
        "id": "jQWKfMTBXzEJ",
        "outputId": "79b4ce5b-2ff1-4521-d6b0-1aeb5b93ceea"
      },
      "execution_count": 77,
      "outputs": [
        {
          "output_type": "stream",
          "name": "stdout",
          "text": [
            "0       False\n",
            "1       False\n",
            "2       False\n",
            "3       False\n",
            "4       False\n",
            "        ...  \n",
            "9995    False\n",
            "9996    False\n",
            "9997    False\n",
            "9998    False\n",
            "9999    False\n",
            "Name: monto, Length: 10000, dtype: bool\n",
            "0       False\n",
            "1       False\n",
            "2       False\n",
            "3       False\n",
            "4       False\n",
            "        ...  \n",
            "9995    False\n",
            "9996    False\n",
            "9997    False\n",
            "9998    False\n",
            "9999    False\n",
            "Length: 10000, dtype: bool\n",
            "0       False\n",
            "1       False\n",
            "2       False\n",
            "3       False\n",
            "4       False\n",
            "        ...  \n",
            "9995    False\n",
            "9996    False\n",
            "9997    False\n",
            "9998    False\n",
            "9999    False\n",
            "Length: 10000, dtype: bool\n"
          ]
        }
      ]
    },
    {
      "cell_type": "code",
      "source": [
        "ciudades_unicas = df['ciudad'].unique()\n",
        "print(ciudades_unicas)\n"
      ],
      "metadata": {
        "colab": {
          "base_uri": "https://localhost:8080/"
        },
        "id": "MuqS4N0IYsdb",
        "outputId": "f3d43be1-e40d-42df-c362-afe1e2718782"
      },
      "execution_count": 78,
      "outputs": [
        {
          "output_type": "stream",
          "name": "stdout",
          "text": [
            "['Queretaro' 'Juarez' 'Paris' 'Puebla' 'Monterrey' 'Merida' 'Leon'\n",
            " 'Torreon' 'Tijuana' 'Madrid' 'CDMX' 'Guadalajara' 'Brasil' 'Barcelona'\n",
            " 'Los Angeles' 'Sidney' 'London' 'Bogota' 'Boston' 'New York'\n",
            " 'Buenos Aires' 'Montreal' 'Israel' 'Cali' 'India' 'China' 'Nigeria'\n",
            " 'Ucrania' 'New york' 'Peru' 'Libia' 'Texas' 'Milan' 'Moscu']\n"
          ]
        }
      ]
    },
    {
      "cell_type": "code",
      "source": [
        "print(df['ciudad'].value_counts())"
      ],
      "metadata": {
        "colab": {
          "base_uri": "https://localhost:8080/"
        },
        "id": "bdiW0RS2Y0Mg",
        "outputId": "3c0c6422-7b89-4d1e-aad1-8c08aa827cff"
      },
      "execution_count": 79,
      "outputs": [
        {
          "output_type": "stream",
          "name": "stdout",
          "text": [
            "ciudad\n",
            "CDMX            1051\n",
            "Monterrey       1022\n",
            "Tijuana         1018\n",
            "Puebla          1017\n",
            "Merida           996\n",
            "Guadalajara      992\n",
            "Torreon          986\n",
            "Queretaro        978\n",
            "Juarez           958\n",
            "Leon             947\n",
            "Madrid             2\n",
            "Paris              2\n",
            "Brasil             2\n",
            "Barcelona          2\n",
            "Los Angeles        2\n",
            "Sidney             2\n",
            "Montreal           2\n",
            "Boston             2\n",
            "Nigeria            2\n",
            "Israel             2\n",
            "Cali               2\n",
            "London             1\n",
            "Bogota             1\n",
            "Buenos Aires       1\n",
            "India              1\n",
            "New York           1\n",
            "China              1\n",
            "Ucrania            1\n",
            "New york           1\n",
            "Peru               1\n",
            "Libia              1\n",
            "Texas              1\n",
            "Milan              1\n",
            "Moscu              1\n",
            "Name: count, dtype: int64\n"
          ]
        }
      ]
    },
    {
      "cell_type": "code",
      "source": [
        "ciudades_mexicanas = ['CDMX', 'Monterrey', 'Tijuana', 'Puebla', 'Merida', 'Guadalajara', 'Torreon', 'Queretaro', 'Juarez', 'Leon']\n",
        "condicion4 = ~df['ciudad'].isin(ciudades_mexicanas)\n",
        "print(ciudades_mexicanas)"
      ],
      "metadata": {
        "colab": {
          "base_uri": "https://localhost:8080/"
        },
        "id": "bt_BM-0VY9OT",
        "outputId": "b536f13a-9498-43df-8e11-428240a4a172"
      },
      "execution_count": 80,
      "outputs": [
        {
          "output_type": "stream",
          "name": "stdout",
          "text": [
            "['CDMX', 'Monterrey', 'Tijuana', 'Puebla', 'Merida', 'Guadalajara', 'Torreon', 'Queretaro', 'Juarez', 'Leon']\n"
          ]
        }
      ]
    },
    {
      "cell_type": "code",
      "source": [
        "condicion5 = (df['tipo_transaccion'] == 'compra') & (df['categoria_comercio'] == 'viaje') & (df['monto'] > 35000)\n",
        "print(condicion5)"
      ],
      "metadata": {
        "colab": {
          "base_uri": "https://localhost:8080/"
        },
        "id": "xfGlX6afZd9q",
        "outputId": "e96c8804-9545-4b15-8da6-02dea534871f"
      },
      "execution_count": 81,
      "outputs": [
        {
          "output_type": "stream",
          "name": "stdout",
          "text": [
            "0       False\n",
            "1       False\n",
            "2       False\n",
            "3       False\n",
            "4       False\n",
            "        ...  \n",
            "9995    False\n",
            "9996    False\n",
            "9997    False\n",
            "9998    False\n",
            "9999    False\n",
            "Length: 10000, dtype: bool\n"
          ]
        }
      ]
    },
    {
      "cell_type": "code",
      "source": [
        "df_fraudes = df[condicion1 | condicion2 | condicion3 | condicion4 | condicion5]"
      ],
      "metadata": {
        "id": "bJHZDbN3ZmHy"
      },
      "execution_count": 82,
      "outputs": []
    },
    {
      "cell_type": "code",
      "source": [
        "print(\"\\n\" + \"=\"*50)\n",
        "print(\" DESGLOSE DE FRAUDES DETECTADOS POR CONDICIÓN\")\n",
        "print(\"=\"*50)\n",
        "print(f\"Regla 1 (Monto > 45,000): \\t\\t\\t{len(df[condicion1])} fraudes\")\n",
        "print(f\"Regla 2 (Retiro Extranjero > 25,000): \\t\\t{len(df[condicion2])} fraudes\")\n",
        "print(f\"Regla 3 (Transacción > 35,000): \\t\\t{len(df[condicion3])} fraudes\")\n",
        "print(f\"Regla 4 (Ciudad fuera de México): \\t\\t{len(df[condicion4])} fraudes\")\n",
        "print(f\"Regla 5 (Compra de Viaje > 35,000): \\t\\t{len(df[condicion5])} fraudes\")\n",
        "print(\"=\"*50)"
      ],
      "metadata": {
        "colab": {
          "base_uri": "https://localhost:8080/"
        },
        "id": "zn5_sbBedUzj",
        "outputId": "54db0567-8923-4d07-8e15-c44c48118cd3"
      },
      "execution_count": 84,
      "outputs": [
        {
          "output_type": "stream",
          "name": "stdout",
          "text": [
            "\n",
            "==================================================\n",
            "📊 DESGLOSE DE FRAUDES DETECTADOS POR CONDICIÓN\n",
            "==================================================\n",
            "Regla 1 (Monto > 45,000): \t\t\t990 fraudes\n",
            "Regla 2 (Retiro Extranjero > 25,000): \t\t0 fraudes\n",
            "Regla 3 (Transacción > 35,000): \t\t0 fraudes\n",
            "Regla 4 (Ciudad fuera de México): \t\t35 fraudes\n",
            "Regla 5 (Compra de Viaje > 35,000): \t\t0 fraudes\n",
            "==================================================\n"
          ]
        }
      ]
    },
    {
      "cell_type": "code",
      "source": [
        "##Creación de un csv con todos los posibles fraudes :)\n",
        "\n",
        "df_fraudes.to_csv(archivo_salida, index=False)\n",
        "\n",
        "print(f\"\\n Se encontraron {len(df_fraudes)} posibles fraudes.\")\n",
        "print(f\"Los resultados se han guardado en el archivo: '{archivo_salida}'\")"
      ],
      "metadata": {
        "colab": {
          "base_uri": "https://localhost:8080/"
        },
        "id": "qfztB-GgZoj_",
        "outputId": "af0c3f69-4f9b-4f83-b1b0-5e373a6cea9d"
      },
      "execution_count": 83,
      "outputs": [
        {
          "output_type": "stream",
          "name": "stdout",
          "text": [
            "\n",
            " Se encontraron 1022 posibles fraudes.\n",
            "Los resultados se han guardado en el archivo: '/content/drive/MyDrive/posibles_fraudes.csv'\n"
          ]
        }
      ]
    }
  ]
}