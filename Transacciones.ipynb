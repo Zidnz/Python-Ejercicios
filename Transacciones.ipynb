{
  "nbformat": 4,
  "nbformat_minor": 0,
  "metadata": {
    "colab": {
      "provenance": []
    },
    "kernelspec": {
      "name": "python3",
      "display_name": "Python 3"
    },
    "language_info": {
      "name": "python"
    }
  },
  "cells": [
    {
      "cell_type": "code",
      "execution_count": null,
      "metadata": {
        "id": "HHiXE-z6prGw"
      },
      "outputs": [],
      "source": [
        "import pandas as pd\n",
        "\n",
        "df = pd.read_csv(\"/content/transacciones - Hoja 1.csv\")"
      ]
    },
    {
      "cell_type": "code",
      "source": [
        "print(\"1. CONTEO POR TIPO DE TRANSACCIÓN\")\n",
        "conteo_por_tipo = df.groupby('tipo_transaccion').size()\n",
        "print(conteo_por_tipo)\n",
        "print(\"\\n\")"
      ],
      "metadata": {
        "colab": {
          "base_uri": "https://localhost:8080/"
        },
        "id": "AvDlTTSJq1Yr",
        "outputId": "7711ae34-57cb-458f-96e9-e3a5198fbd13"
      },
      "execution_count": null,
      "outputs": [
        {
          "output_type": "stream",
          "name": "stdout",
          "text": [
            "1. CONTEO POR TIPO DE TRANSACCIÓN\n",
            "tipo_transaccion\n",
            "compra           3352\n",
            "retiro           3278\n",
            "transferencia    3370\n",
            "dtype: int64\n",
            "\n",
            "\n"
          ]
        }
      ]
    },
    {
      "cell_type": "code",
      "source": [
        "print(\"2. TOP 5 TRANSACCIONES POR MONTO\")\n",
        "top_5_monto = df.sort_values(by='monto', ascending=False).head(5)\n",
        "print(top_5_monto)\n",
        "print(\"\\n\")"
      ],
      "metadata": {
        "colab": {
          "base_uri": "https://localhost:8080/"
        },
        "id": "gefRHldgq779",
        "outputId": "08c448a6-4eef-4189-d191-945892de9c33"
      },
      "execution_count": null,
      "outputs": [
        {
          "output_type": "stream",
          "name": "stdout",
          "text": [
            "2. TOP 5 TRANSACCIONES POR MONTO\n",
            "      id_transaccion  id_cliente     nombre_cliente           cuenta_origen  \\\n",
            "3444            3445        4508        Laura Price  ES25203010770036579757   \n",
            "5374            5375        8796     Frances Joseph  ES82043997879436965728   \n",
            "3330            3331        7016       Susan Barnes  ES97485046117969424317   \n",
            "6515            6516        7295  Samantha Caldwell  ES25328975908033588586   \n",
            "8904            8905        7606   Michael Melendez  ES56719779144675253265   \n",
            "\n",
            "           fecha     monto divisa tipo_transaccion       ciudad  \\\n",
            "3444  23/09/2025  49995.63    MXN           compra  Guadalajara   \n",
            "5374  27/04/2025  49992.38    EUR    transferencia         Leon   \n",
            "3330  03/09/2025  49988.09    USD           compra  Guadalajara   \n",
            "6515  13/07/2025  49986.96    USD           retiro    Queretaro   \n",
            "8904  03/09/2025  49981.24    USD           compra       Merida   \n",
            "\n",
            "              cuenta_destino categoria_comercio  \n",
            "3444                     NaN               ropa  \n",
            "5374  ES22967848312916265659                NaN  \n",
            "3330                     NaN               ropa  \n",
            "6515                     NaN                NaN  \n",
            "8904                     NaN       supermercado  \n",
            "\n",
            "\n"
          ]
        }
      ]
    },
    {
      "cell_type": "code",
      "source": [
        "print(\"3. TRANSACCIONES EXTRANJERAS\")\n",
        "ciudades_mexicanas = ['CDMX', 'Monterrey', 'Tijuana', 'Puebla', 'Merida', 'Guadalajara', 'Torreon', 'Queretaro', 'Juarez', 'Leon']\n",
        "transacciones_extranjeras = df[~df['ciudad'].isin(ciudades_mexicanas)]\n",
        "print(transacciones_extranjeras)\n",
        "print(\"\\n\")"
      ],
      "metadata": {
        "colab": {
          "base_uri": "https://localhost:8080/"
        },
        "id": "-AbhW854rEeV",
        "outputId": "9d860119-99bf-49f8-97c0-f515e56d6003"
      },
      "execution_count": null,
      "outputs": [
        {
          "output_type": "stream",
          "name": "stdout",
          "text": [
            "3. TRANSACCIONES EXTRANJERAS\n",
            "      id_transaccion  id_cliente       nombre_cliente           cuenta_origen  \\\n",
            "2                  3        6403         Amanda Lewis  ES94278160534459740595   \n",
            "21                22        6200           Sara Hayes  ES87715058744226080998   \n",
            "81                82        4041          Jesse Haley  ES24466833169075235511   \n",
            "151              152        1556         Nicole Blair  ES83690781662920254161   \n",
            "181              182        8594         Katelyn Tran  ES60362173861452778103   \n",
            "221              222        6970        Jose Johnston  ES22804134254660089308   \n",
            "268              269        3131          Carrie Pena  ES90084414001615422937   \n",
            "335              336        3738         Aaron Harvey  ES96820587356490596692   \n",
            "442              443        9954    Michael Hernandez  ES27156253917943792518   \n",
            "498              499        3223        William Horne  ES75827781751930120425   \n",
            "524              525        4306       Scott Mcintosh  ES83046975837437860916   \n",
            "540              541        2096    Margaret Mitchell  ES92662815268002314327   \n",
            "554              555        5218        Robin Pearson  ES28475057364302474310   \n",
            "566              567        2574         Lisa Johnson  ES26242088963500626818   \n",
            "592              593        4153        Nicole Suarez  ES30083208267610459564   \n",
            "618              619        3913       Sherri Pearson  ES52124732919913839597   \n",
            "638              639        1495         Seth Gilbert  ES51261789067964634031   \n",
            "660              661        1735      Madeline Cooper  ES41769499413912490144   \n",
            "686              687        5590       Eugene Simmons  ES80604305953997179771   \n",
            "740              741        9627        Ashley Farmer  ES31043433992568724128   \n",
            "753              754        1257        David Nielsen  ES65000839886320787359   \n",
            "800              801        7263       Daniel Simpson  ES24609743261290894812   \n",
            "901              902        4294       Brittany Jones  ES44767871307348356508   \n",
            "905              906        9589         Nicole Jones  ES17693499126045171523   \n",
            "1197            1198        9081            Jeff Mora  ES38410340210478334281   \n",
            "1256            1257        8283        Monique Smith  ES67881720808560410380   \n",
            "1264            1265        3316       Joseph Kaufman  ES35055614379283983518   \n",
            "1430            1431        7638  Michelle Montgomery  ES95088023917151535150   \n",
            "1612            1613        2484          Jerome Shah  ES58123872443448042894   \n",
            "1709            1710        2498      William Stewart  ES79279705874334044843   \n",
            "1985            1986        8473      Jennifer Wilson  ES99949844618135684543   \n",
            "2974            2975        4214     Raymond Holloway  ES99180315101292855283   \n",
            "5537            5538        7793         Joshua Moore  ES55490535075044428942   \n",
            "5764            5765        8299        Megan Johnson  ES51341855770586937804   \n",
            "5858            5859        3446         Colin Brooks  ES75563199836817600239   \n",
            "\n",
            "           fecha     monto divisa tipo_transaccion        ciudad  \\\n",
            "2     04/07/2025  30644.10    MXN           retiro         Paris   \n",
            "21    25/07/2025   4282.67    USD           retiro        Madrid   \n",
            "81    03/08/2025  38341.71    MXN           compra        Brasil   \n",
            "151   22/04/2025  13329.34    EUR           compra     Barcelona   \n",
            "181   31/07/2025   9605.27    USD           retiro   Los Angeles   \n",
            "221   31/03/2025   3196.42    EUR           compra        Sidney   \n",
            "268   24/05/2025  13032.16    MXN    transferencia        London   \n",
            "335   06/08/2025  36990.43    MXN    transferencia        Bogota   \n",
            "442   09/09/2025  44483.26    USD           compra        Boston   \n",
            "498   01/06/2025  22475.55    MXN           retiro         Paris   \n",
            "524   04/04/2025  12824.76    EUR    transferencia      New York   \n",
            "540   09/04/2025  12425.61    EUR           retiro   Los Angeles   \n",
            "554   20/05/2025  34115.59    EUR           retiro        Madrid   \n",
            "566   17/04/2025   8137.72    EUR           retiro        Sidney   \n",
            "592   12/09/2025  47476.65    USD           retiro  Buenos Aires   \n",
            "618   12/04/2025  34195.61    USD           retiro      Montreal   \n",
            "638   01/09/2025  40424.73    EUR           retiro        Israel   \n",
            "660   25/05/2025  43041.73    EUR    transferencia        Boston   \n",
            "686   12/06/2025   2854.43    USD    transferencia        Israel   \n",
            "740   04/04/2025  16775.75    USD    transferencia          Cali   \n",
            "753   19/08/2025  31318.31    EUR           retiro         India   \n",
            "800   03/04/2025  20674.79    EUR           compra        Brasil   \n",
            "901   19/09/2025  45403.95    MXN           retiro         China   \n",
            "905   30/08/2025  15693.99    EUR           retiro       Nigeria   \n",
            "1197  29/04/2025   2455.45    EUR           retiro       Nigeria   \n",
            "1256  10/05/2025  22514.40    EUR           retiro       Ucrania   \n",
            "1264  09/06/2025  14066.14    EUR           retiro          Cali   \n",
            "1430  31/07/2025  49826.04    EUR           retiro      New york   \n",
            "1612  10/06/2025   3265.72    USD           retiro          Peru   \n",
            "1709  14/08/2025  27378.89    EUR           retiro         Libia   \n",
            "1985  21/08/2025  15966.81    USD           retiro         Texas   \n",
            "2974  17/04/2025  19112.75    USD    transferencia     Barcelona   \n",
            "5537  11/04/2025   8288.67    MXN           retiro      Montreal   \n",
            "5764  28/07/2025   6398.46    EUR    transferencia         Milan   \n",
            "5858  11/09/2025  33457.85    EUR           retiro         Moscu   \n",
            "\n",
            "              cuenta_destino categoria_comercio  \n",
            "2                        NaN                NaN  \n",
            "21                       NaN                NaN  \n",
            "81                       NaN         tecnologia  \n",
            "151                      NaN       supermercado  \n",
            "181                      NaN                NaN  \n",
            "221                      NaN         tecnologia  \n",
            "268   ES64550640167281989000                NaN  \n",
            "335   ES91517096893090446353                NaN  \n",
            "442                      NaN          servicios  \n",
            "498                      NaN                NaN  \n",
            "524   ES85873274015008257157                NaN  \n",
            "540                      NaN                NaN  \n",
            "554                      NaN                NaN  \n",
            "566                      NaN                NaN  \n",
            "592                      NaN                NaN  \n",
            "618                      NaN                NaN  \n",
            "638                      NaN                NaN  \n",
            "660   ES64486242687498676458                NaN  \n",
            "686   ES73127478276569346108                NaN  \n",
            "740   ES60630296629490739626                NaN  \n",
            "753                      NaN                NaN  \n",
            "800                      NaN          servicios  \n",
            "901                      NaN                NaN  \n",
            "905                      NaN                NaN  \n",
            "1197                     NaN                NaN  \n",
            "1256                     NaN                NaN  \n",
            "1264                     NaN                NaN  \n",
            "1430                     NaN                NaN  \n",
            "1612                     NaN                NaN  \n",
            "1709                     NaN                NaN  \n",
            "1985                     NaN                NaN  \n",
            "2974  ES49031216137711028239                NaN  \n",
            "5537                     NaN                NaN  \n",
            "5764  ES30340489273349059698                NaN  \n",
            "5858                     NaN                NaN  \n",
            "\n",
            "\n"
          ]
        }
      ]
    },
    {
      "cell_type": "code",
      "source": [
        "print(\"4. ¿APARECE 'SUDÁFRICA' EN LA COLUMNA DE CIUDADES?\")\n",
        "existe_sudafrica = 'Sudáfrica' in df['ciudad'].unique()\n",
        "print(f\"La ciudad 'Sudáfrica' existe en los datos: {existe_sudafrica}\")\n",
        "print(\"\\n\")"
      ],
      "metadata": {
        "colab": {
          "base_uri": "https://localhost:8080/"
        },
        "id": "Aq4is0atrYXG",
        "outputId": "406c52bc-7c6c-47c2-a9bc-089f5f19ec3e"
      },
      "execution_count": null,
      "outputs": [
        {
          "output_type": "stream",
          "name": "stdout",
          "text": [
            "4. ¿APARECE 'SUDÁFRICA' EN LA COLUMNA DE CIUDADES?\n",
            "La ciudad 'Sudáfrica' existe en los datos: False\n",
            "\n",
            "\n"
          ]
        }
      ]
    },
    {
      "cell_type": "code",
      "source": [
        "print(\"5. PROMEDIO DE MONTO EN RETIROS\")\n",
        "promedio_retiro = df[df['tipo_transaccion'] == 'retiro']['monto'].mean()\n",
        "print(f\"El monto promedio de retiro es: {promedio_retiro:,.2f}\")\n",
        "print(\"\\n\")"
      ],
      "metadata": {
        "colab": {
          "base_uri": "https://localhost:8080/"
        },
        "id": "CHGxcdDbrc6n",
        "outputId": "5eab5531-2ab7-4e68-a1a2-ddaa184b3ad9"
      },
      "execution_count": null,
      "outputs": [
        {
          "output_type": "stream",
          "name": "stdout",
          "text": [
            "5. PROMEDIO DE MONTO EN RETIROS\n",
            "El monto promedio de retiro es: 24,861.53\n",
            "\n",
            "\n"
          ]
        }
      ]
    },
    {
      "cell_type": "code",
      "source": [
        "print(\"6. MAYOR RETIRO REGISTRADO\")\n",
        "mayor_retiro = df[df['tipo_transaccion'] == 'retiro']['monto'].max()\n",
        "print(f\"El mayor retiro registrado es por: {mayor_retiro:,.2f}\")\n",
        "print(\"\\n\")"
      ],
      "metadata": {
        "colab": {
          "base_uri": "https://localhost:8080/"
        },
        "id": "4Nmet_EtrhFR",
        "outputId": "0a981f4d-f330-4152-a060-697f44817b7e"
      },
      "execution_count": null,
      "outputs": [
        {
          "output_type": "stream",
          "name": "stdout",
          "text": [
            "6. MAYOR RETIRO REGISTRADO\n",
            "El mayor retiro registrado es por: 49,986.96\n",
            "\n",
            "\n"
          ]
        }
      ]
    },
    {
      "cell_type": "code",
      "source": [
        "print(\"7. DEPÓSITOS ENTRE 20,000 Y 35,000\")\n",
        "depositos_rango = df[(df['tipo_transaccion'] == '') & (df['monto'].between(20000, 35000))]\n",
        "print(depositos_rango)\n",
        "print(\"\\n\")"
      ],
      "metadata": {
        "colab": {
          "base_uri": "https://localhost:8080/",
          "height": 245
        },
        "id": "kdfyPgieroGB",
        "outputId": "98e759a7-fc8d-4133-a6cc-5b0dffd34f89"
      },
      "execution_count": null,
      "outputs": [
        {
          "output_type": "error",
          "ename": "SyntaxError",
          "evalue": "unterminated string literal (detected at line 2) (ipython-input-3276017406.py, line 2)",
          "traceback": [
            "\u001b[0;36m  File \u001b[0;32m\"/tmp/ipython-input-3276017406.py\"\u001b[0;36m, line \u001b[0;32m2\u001b[0m\n\u001b[0;31m    depositos_rango = df[(df['tipo_transaccion'] == 'transferencia) & (df['monto'].between(20000, 35000))]\u001b[0m\n\u001b[0m                                                                                ^\u001b[0m\n\u001b[0;31mSyntaxError\u001b[0m\u001b[0;31m:\u001b[0m unterminated string literal (detected at line 2)\n"
          ]
        }
      ]
    },
    {
      "cell_type": "code",
      "source": [
        "print(\"8. CONTEO POR TIPO DE DIVISA\")\n",
        "conteo_por_divisa = df.groupby('divisa').size()\n",
        "print(conteo_por_divisa)\n",
        "print(\"\\n\")"
      ],
      "metadata": {
        "colab": {
          "base_uri": "https://localhost:8080/"
        },
        "id": "71ZtZgslsvMu",
        "outputId": "93b665f3-0481-4a06-909e-a530b646a48b"
      },
      "execution_count": null,
      "outputs": [
        {
          "output_type": "stream",
          "name": "stdout",
          "text": [
            "8. CONTEO POR TIPO DE DIVISA\n",
            "divisa\n",
            "EUR    3334\n",
            "MXN    3325\n",
            "USD    3341\n",
            "dtype: int64\n",
            "\n",
            "\n"
          ]
        }
      ]
    },
    {
      "cell_type": "code",
      "source": [
        "print(\"9. CONVERSIÓN DE EUROS (EUR) A DÓLARES (USD)\")\n",
        "\n",
        "df_modificado = df.copy()\n",
        "filtro_usd = df_modificado['divisa'] == 'EUR'\n",
        "df_modificado.loc[filtro_usd, 'divisa'] = 'USD'\n",
        "\n",
        "print(df_modificado[filtro_usd])\n",
        "print(\"\\n\")"
      ],
      "metadata": {
        "colab": {
          "base_uri": "https://localhost:8080/"
        },
        "id": "Gjo2mp60s3se",
        "outputId": "3d525659-187d-4b35-cc82-914199ff974c"
      },
      "execution_count": null,
      "outputs": [
        {
          "output_type": "stream",
          "name": "stdout",
          "text": [
            "9. CONVERSIÓN DE EUROS (EUR) A DÓLARES (USD)\n",
            "      id_transaccion  id_cliente    nombre_cliente           cuenta_origen  \\\n",
            "6                  7        5626      Lisa Jackson  ES12648756717578627874   \n",
            "8                  9        6669     Barbara Davis  ES10770301622437194931   \n",
            "11                12        7657     Vincent Adams  ES75244429530637829860   \n",
            "13                14        4819  Bethany Rich PhD  ES72793868836071840791   \n",
            "16                17        7980     Kenneth Young  ES56324307404472433024   \n",
            "...              ...         ...               ...                     ...   \n",
            "9991            9992        4223  Cassandra Hebert  ES42339526393911948202   \n",
            "9993            9994        2490       Samuel Shaw  ES12072330555740273301   \n",
            "9994            9995        8328       Tracy Meyer  ES47060772238602372178   \n",
            "9995            9996        1840     Joseph Benson  ES48740121560683100545   \n",
            "9996            9997        5824   James Gutierrez  ES58203885511634208677   \n",
            "\n",
            "           fecha     monto divisa tipo_transaccion       ciudad  \\\n",
            "6     12/06/2025    132.42    USD    transferencia    Queretaro   \n",
            "8     28/08/2025  41811.10    USD    transferencia       Merida   \n",
            "11    12/05/2025  35360.16    USD    transferencia         Leon   \n",
            "13    09/05/2025  48485.84    USD           compra    Queretaro   \n",
            "16    18/07/2025  41277.81    USD           compra    Monterrey   \n",
            "...          ...       ...    ...              ...          ...   \n",
            "9991  15/05/2025  40365.69    USD           retiro  Guadalajara   \n",
            "9993  23/08/2025   9376.65    USD           retiro      Tijuana   \n",
            "9994  18/06/2025  45492.74    USD           retiro       Merida   \n",
            "9995  05/07/2025  23022.17    USD    transferencia         CDMX   \n",
            "9996  03/06/2025  22772.42    USD    transferencia         CDMX   \n",
            "\n",
            "              cuenta_destino categoria_comercio  \n",
            "6     ES21250734365314750679                NaN  \n",
            "8     ES32533519872846861209                NaN  \n",
            "11    ES89202985922603674720                NaN  \n",
            "13                       NaN        restaurante  \n",
            "16                       NaN          servicios  \n",
            "...                      ...                ...  \n",
            "9991                     NaN                NaN  \n",
            "9993                     NaN                NaN  \n",
            "9994                     NaN                NaN  \n",
            "9995  ES76666887454936063605                NaN  \n",
            "9996  ES45068283304591889577                NaN  \n",
            "\n",
            "[3334 rows x 11 columns]\n",
            "\n",
            "\n"
          ]
        }
      ]
    }
  ]
}